{
  "nbformat": 4,
  "nbformat_minor": 0,
  "metadata": {
    "colab": {
      "name": "Aidi2004 Lab 2.ipynb",
      "provenance": []
    },
    "kernelspec": {
      "name": "python3",
      "display_name": "Python 3"
    },
    "language_info": {
      "name": "python"
    }
  },
  "cells": [
    {
      "cell_type": "code",
      "execution_count": 1,
      "metadata": {
        "id": "T5dyZT3nWmCo"
      },
      "outputs": [],
      "source": [
        "# Importing libraries\n",
        "import numpy as np\n",
        "import pandas as pd\n",
        "from sklearn.model_selection import train_test_split\n",
        "from sklearn.linear_model import LogisticRegression\n",
        "from sklearn.svm import SVC\n",
        "import warnings\n",
        "warnings.filterwarnings('ignore') # Otherwise the logistic regression model gives ugly convergence warnings (which I would generally put more effort into resolving, but this assignment's main focus is the git aspect so I'm using this dirty fix instead)"
      ]
    },
    {
      "cell_type": "code",
      "source": [
        "# Importing data\n",
        "data = pd.read_csv(\"data.csv\")\n",
        "x = data.drop([\"diagnosis\", \"id\", \"Unnamed: 32\"], axis = 1)\n",
        "y = data['diagnosis']\n",
        "\n",
        "# training and testing sets\n",
        "x_train, x_test, y_train, y_test = train_test_split(x, y, test_size = 0.2, random_state = 42)"
      ],
      "metadata": {
        "id": "AlWxmnqyXGYT"
      },
      "execution_count": 3,
      "outputs": []
    },
    {
      "cell_type": "code",
      "source": [
        "# Logistic regression model\n",
        "model = LogisticRegression()\n",
        "model.fit(x_train, y_train)\n",
        "print(\"Accuracy: \", model.score(x_test, y_test))"
      ],
      "metadata": {
        "colab": {
          "base_uri": "https://localhost:8080/"
        },
        "id": "u2EDLX53Ylop",
        "outputId": "cea274b2-e5c5-4498-91cf-ebd2d4f85fdf"
      },
      "execution_count": null,
      "outputs": [
        {
          "output_type": "stream",
          "name": "stdout",
          "text": [
            "Accuracy:  0.9649122807017544\n"
          ]
        }
      ]
    },
    {
      "cell_type": "code",
      "source": [
        "# Another ML model\n",
        "model = SVC()\n",
        "model.fit(x_train, y_train)\n",
        "print(\"Accuracy: \", model.score(x_test, y_test))"
      ],
      "metadata": {
        "colab": {
          "base_uri": "https://localhost:8080/"
        },
        "id": "q7kvo466shsY",
        "outputId": "2558884a-df1d-4b1b-ef7f-5e07140ff195"
      },
      "execution_count": 4,
      "outputs": [
        {
          "output_type": "stream",
          "name": "stdout",
          "text": [
            "Accuracy:  0.9473684210526315\n"
          ]
        }
      ]
    }
  ]
}